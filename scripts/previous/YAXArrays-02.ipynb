{
 "cells": [
  {
   "cell_type": "code",
   "execution_count": 10,
   "id": "9b5462ed-c6e0-4460-8ff3-8fd614584e0a",
   "metadata": {},
   "outputs": [
    {
     "data": {
      "text/plain": [
       "chunksize (generic function with 1 method)"
      ]
     },
     "execution_count": 10,
     "metadata": {},
     "output_type": "execute_result"
    }
   ],
   "source": [
    "# https://juliadatacubes.github.io/YAXArrays.jl/dev/examples/generated/UserGuide/examples_from_esdl_study_4/\n",
    "using Pkg\n",
    "\n",
    "# for operating data cubes\n",
    "using Zarr, YAXArrays, NetCDF\n",
    "using DimensionalData\n",
    "using EarthDataLab\n",
    "\n",
    "# for data analysis\n",
    "using WeightedOnlineStats\n",
    "using Statistics, Dates, SkipNan\n",
    "using DataFrames, Downloads\n",
    "\n",
    "Base.names(ds::Dataset) = string.(collect(keys(ds.cubes)))\n",
    "Base.getindex(ds::Dataset, i) = ds[names(ds)[i]]\n",
    "chunksize(cube) = Cubes.cubechunks(cube)"
   ]
  },
  {
   "cell_type": "markdown",
   "id": "d865b0fd-f9dd-4582-bfcb-af86a909ebd5",
   "metadata": {},
   "source": [
    "# 1. 读取数据"
   ]
  },
  {
   "cell_type": "code",
   "execution_count": 12,
   "id": "2cc0d1f1-62df-4678-81a1-57a788e9ef6d",
   "metadata": {},
   "outputs": [],
   "source": [
    "# import Pkg; Pkg.add(\"SkipNan\")"
   ]
  },
  {
   "cell_type": "code",
   "execution_count": 13,
   "id": "39de46c2-c311-4a00-addc-8dc13b905844",
   "metadata": {},
   "outputs": [
    {
     "name": "stdout",
     "output_type": "stream",
     "text": [
      " 24.805153 seconds (34.08 k allocations: 3.251 MiB)\n"
     ]
    },
    {
     "data": {
      "text/plain": [
       "144×72×989×42 YAXArray{Union{Missing, Float32},4}\u001b[90m with dimensions: \u001b[39m\n",
       "  \u001b[31mDim{\u001b[39m\u001b[33m:lon\u001b[39m\u001b[31m}\u001b[39m Sampled{Float64} \u001b[36m-178.75:2.5:178.75\u001b[39m ForwardOrdered Regular Points,\n",
       "  \u001b[31mDim{\u001b[39m\u001b[33m:lat\u001b[39m\u001b[31m}\u001b[39m Sampled{Float64} \u001b[36m-88.75:2.5:88.75\u001b[39m ForwardOrdered Regular Points,\n",
       "  \u001b[31mTi\u001b[39m Sampled{DateTime} \u001b[36mDateTime[1979-01-09T00:00:00, …, 2021-12-27T00:00:00]\u001b[39m ForwardOrdered Irregular Points,\n",
       "  \u001b[31mDim{\u001b[39m\u001b[33m:Variable\u001b[39m\u001b[31m}\u001b[39m Categorical{String} \u001b[36mString[sensible_heat, potential_evaporation, …, net_ecosystem_exchange, snow_sublimation]\u001b[39m Unordered\n",
       "units: mm d^-1\n",
       "Total size: 1.6 GB\n"
      ]
     },
     "execution_count": 13,
     "metadata": {},
     "output_type": "execute_result"
    }
   ],
   "source": [
    "@time CUBE = esdc(res=\"tiny\")"
   ]
  },
  {
   "cell_type": "code",
   "execution_count": 26,
   "id": "69b8eee1-cc3f-4522-8d8f-187a7b4a94e8",
   "metadata": {},
   "outputs": [
    {
     "name": "stdout",
     "output_type": "stream",
     "text": [
      "  0.000376 seconds (286 allocations: 15.508 KiB)\n"
     ]
    },
    {
     "data": {
      "text/plain": [
       "144×72×230×2 YAXArray{Union{Missing, Float32},4}\u001b[90m with dimensions: \u001b[39m\n",
       "  \u001b[31mDim{\u001b[39m\u001b[33m:lon\u001b[39m\u001b[31m}\u001b[39m Sampled{Float64} \u001b[36m-178.75:2.5:178.75\u001b[39m ForwardOrdered Regular Points,\n",
       "  \u001b[31mDim{\u001b[39m\u001b[33m:lat\u001b[39m\u001b[31m}\u001b[39m Sampled{Float64} \u001b[36m-88.75:2.5:88.75\u001b[39m ForwardOrdered Regular Points,\n",
       "  \u001b[31mTi\u001b[39m Sampled{DateTime} \u001b[36mDateTime[2003-01-09T00:00:00, …, 2012-12-26T00:00:00]\u001b[39m ForwardOrdered Irregular Points,\n",
       "  \u001b[31mDim{\u001b[39m\u001b[33m:Variable\u001b[39m\u001b[31m}\u001b[39m Categorical{String} \u001b[36mString[\"gross_primary_productivity\", \"surface_moisture\"]\u001b[39m Unordered\n",
       "units: mm d^-1\n",
       "Total size: 18.19 MB\n"
      ]
     },
     "execution_count": 26,
     "metadata": {},
     "output_type": "execute_result"
    }
   ],
   "source": [
    "vars = [\"gross_primary_productivity\", \"surface_moisture\"]\n",
    "# col = CUBE[vars]\n",
    "@time cube = CUBE[variable = At(vars), time = 2003:2012]\n",
    "# gpp = cube_handle[variable = At(\"gross_primary_productivity\"), time = 2003:2012]\n",
    "# moisture = cube_handle[variable = At(\"surface_moisture\"), time = 2003:2012]"
   ]
  },
  {
   "cell_type": "code",
   "execution_count": 27,
   "id": "320096a8-8b2b-41b0-bd35-3ca0fbb24ccc",
   "metadata": {},
   "outputs": [
    {
     "name": "stderr",
     "output_type": "stream",
     "text": [
      "\u001b[32mProgress: 100%|█████████████████████████████████████████| Time: 0:00:23\u001b[39m\n",
      "\u001b[32mProgress: 100%|█████████████████████████████████████████| Time: 0:00:05\u001b[39m\n"
     ]
    },
    {
     "name": "stdout",
     "output_type": "stream",
     "text": [
      " 49.729773 seconds (34.22 M allocations: 2.172 GiB, 9.34% gc time, 47.10% compilation time: <1% of which was recompilation)\n"
     ]
    },
    {
     "data": {
      "text/plain": [
       "144×72×230×2 YAXArray{Union{Missing, Float32},4}\u001b[90m with dimensions: \u001b[39m\n",
       "  \u001b[31mDim{\u001b[39m\u001b[33m:lon\u001b[39m\u001b[31m}\u001b[39m Sampled{Float64} \u001b[36m-178.75:2.5:178.75\u001b[39m ForwardOrdered Regular Points,\n",
       "  \u001b[31mDim{\u001b[39m\u001b[33m:lat\u001b[39m\u001b[31m}\u001b[39m Sampled{Float64} \u001b[36m-88.75:2.5:88.75\u001b[39m ForwardOrdered Regular Points,\n",
       "  \u001b[31mTi\u001b[39m Sampled{DateTime} \u001b[36mDateTime[2003-01-09T00:00:00, …, 2012-12-26T00:00:00]\u001b[39m ForwardOrdered Irregular Points,\n",
       "  \u001b[31mDim{\u001b[39m\u001b[33m:Variable\u001b[39m\u001b[31m}\u001b[39m Categorical{String} \u001b[36mString[\"gross_primary_productivity\", \"surface_moisture\"]\u001b[39m ForwardOrdered\n",
       "units: mm d^-1\n",
       "Total size: 18.19 MB\n"
      ]
     },
     "execution_count": 27,
     "metadata": {},
     "output_type": "execute_result"
    }
   ],
   "source": [
    "f = \"datacube-02\"\n",
    "@time savecube(cube, f, driver=:zarr) # YAXArray"
   ]
  },
  {
   "cell_type": "markdown",
   "id": "67839b9c-70ce-4b66-bcb7-783dad3ec7a9",
   "metadata": {},
   "source": [
    "# 2. 数据分析"
   ]
  },
  {
   "cell_type": "code",
   "execution_count": 31,
   "id": "56c3c48a-d0a2-4de7-aee1-a38e37203467",
   "metadata": {},
   "outputs": [
    {
     "data": {
      "text/plain": [
       "144×72×230 YAXArray{Union{Missing, Float32},3}\u001b[90m with dimensions: \u001b[39m\n",
       "  \u001b[31mDim{\u001b[39m\u001b[33m:lon\u001b[39m\u001b[31m}\u001b[39m Sampled{Float64} \u001b[36m-178.75:2.5:178.75\u001b[39m ForwardOrdered Regular Points,\n",
       "  \u001b[31mDim{\u001b[39m\u001b[33m:lat\u001b[39m\u001b[31m}\u001b[39m Sampled{Float64} \u001b[36m-88.75:2.5:88.75\u001b[39m ForwardOrdered Regular Points,\n",
       "  \u001b[31mTi\u001b[39m Sampled{DateTime} \u001b[36mDateTime[2003-01-09T00:00:00, …, 2012-12-26T00:00:00]\u001b[39m ForwardOrdered Irregular Points\n",
       "name: gross_primary_productivity\n",
       "units: mm d^-1\n",
       "Total size: 9.1 MB\n"
      ]
     },
     "execution_count": 31,
     "metadata": {},
     "output_type": "execute_result"
    }
   ],
   "source": [
    "ds = YAXArrays.open_dataset(f)\n",
    "\n",
    "moisture = ds[1]\n",
    "gpp = ds[2]"
   ]
  },
  {
   "cell_type": "code",
   "execution_count": 32,
   "id": "a37e5a24-b818-47e3-b776-99e97a86ec7b",
   "metadata": {},
   "outputs": [
    {
     "name": "stdout",
     "output_type": "stream",
     "text": [
      "  1.680891 seconds (2.76 k allocations: 299.484 KiB)\n"
     ]
    },
    {
     "data": {
      "text/plain": [
       "144×72 YAXArray{Union{Missing, Float32},2}\u001b[90m with dimensions: \u001b[39m\n",
       "  \u001b[31mDim{\u001b[39m\u001b[33m:lon\u001b[39m\u001b[31m}\u001b[39m Sampled{Float64} \u001b[36m-178.75:2.5:178.75\u001b[39m ForwardOrdered Regular Points,\n",
       "  \u001b[31mDim{\u001b[39m\u001b[33m:lat\u001b[39m\u001b[31m}\u001b[39m Sampled{Float64} \u001b[36m-88.75:2.5:88.75\u001b[39m ForwardOrdered Regular Points\n",
       "units: ID\n",
       "name: IPCCRegions\n",
       "Total size: 40.5 KB\n"
      ]
     },
     "execution_count": 32,
     "metadata": {},
     "output_type": "execute_result"
    }
   ],
   "source": [
    "@time regions = Cube(\"https://s3.bgc-jena.mpg.de:9000/misc/IPCCregions_2d5.zarr\")"
   ]
  },
  {
   "cell_type": "code",
   "execution_count": 33,
   "id": "889b5f75-aa20-4069-9a61-6de8c8f48c4e",
   "metadata": {},
   "outputs": [
    {
     "data": {
      "text/plain": [
       "Datacube iterator with 1 subtables with fields: (:gpp, :moisture, :region, :lon, :lat, :Ti)"
      ]
     },
     "execution_count": 33,
     "metadata": {},
     "output_type": "execute_result"
    }
   ],
   "source": [
    "t = CubeTable(gpp=gpp, moisture=moisture, region=regions)"
   ]
  },
  {
   "cell_type": "code",
   "execution_count": 38,
   "id": "d6ddfff1-eecf-4911-8dd1-10ef03b50fe3",
   "metadata": {},
   "outputs": [
    {
     "data": {
      "text/plain": [
       "Table chunk with schema:\n",
       "Tables.Schema:\n",
       " :gpp       Union{Missing, Float32}\n",
       " :moisture  Union{Missing, Float32}\n",
       " :region    Union{Missing, Float32}\n",
       " :lon       Float64\n",
       " :lat       Float64\n",
       " :Ti        DateTime"
      ]
     },
     "execution_count": 38,
     "metadata": {},
     "output_type": "execute_result"
    }
   ],
   "source": [
    "t[1]"
   ]
  },
  {
   "cell_type": "code",
   "execution_count": 39,
   "id": "08eb768f-6f87-40ca-b591-af67a7a5bad3",
   "metadata": {},
   "outputs": [
    {
     "name": "stdout",
     "output_type": "stream",
     "text": [
      "  0.606909 seconds (1.54 k allocations: 162.845 MiB, 6.67% gc time)\n"
     ]
    },
    {
     "data": {
      "text/html": [
       "<div><div style = \"float: left;\"><span>2384640×6 DataFrame</span></div><div style = \"float: right;\"><span style = \"font-style: italic;\">2384615 rows omitted</span></div><div style = \"clear: both;\"></div></div><div class = \"data-frame\" style = \"overflow-x: scroll;\"><table class = \"data-frame\" style = \"margin-bottom: 6px;\"><thead><tr class = \"header\"><th class = \"rowNumber\" style = \"font-weight: bold; text-align: right;\">Row</th><th style = \"text-align: left;\">gpp</th><th style = \"text-align: left;\">moisture</th><th style = \"text-align: left;\">region</th><th style = \"text-align: left;\">lon</th><th style = \"text-align: left;\">lat</th><th style = \"text-align: left;\">Ti</th></tr><tr class = \"subheader headerLastRow\"><th class = \"rowNumber\" style = \"font-weight: bold; text-align: right;\"></th><th title = \"Union{Missing, Float32}\" style = \"text-align: left;\">Float32?</th><th title = \"Union{Missing, Float32}\" style = \"text-align: left;\">Float32?</th><th title = \"Union{Missing, Float32}\" style = \"text-align: left;\">Float32?</th><th title = \"Float64\" style = \"text-align: left;\">Float64</th><th title = \"Float64\" style = \"text-align: left;\">Float64</th><th title = \"DateTime\" style = \"text-align: left;\">DateTime</th></tr></thead><tbody><tr><td class = \"rowNumber\" style = \"font-weight: bold; text-align: right;\">1</td><td style = \"font-style: italic; text-align: right;\">missing</td><td style = \"text-align: right;\">0.0885</td><td style = \"text-align: right;\">28.0</td><td style = \"text-align: right;\">-178.75</td><td style = \"text-align: right;\">-88.75</td><td style = \"text-align: left;\">2003-01-09T00:00:00</td></tr><tr><td class = \"rowNumber\" style = \"font-weight: bold; text-align: right;\">2</td><td style = \"font-style: italic; text-align: right;\">missing</td><td style = \"text-align: right;\">0.0885</td><td style = \"text-align: right;\">28.0</td><td style = \"text-align: right;\">-176.25</td><td style = \"text-align: right;\">-88.75</td><td style = \"text-align: left;\">2003-01-09T00:00:00</td></tr><tr><td class = \"rowNumber\" style = \"font-weight: bold; text-align: right;\">3</td><td style = \"font-style: italic; text-align: right;\">missing</td><td style = \"text-align: right;\">0.0885</td><td style = \"text-align: right;\">28.0</td><td style = \"text-align: right;\">-173.75</td><td style = \"text-align: right;\">-88.75</td><td style = \"text-align: left;\">2003-01-09T00:00:00</td></tr><tr><td class = \"rowNumber\" style = \"font-weight: bold; text-align: right;\">4</td><td style = \"font-style: italic; text-align: right;\">missing</td><td style = \"text-align: right;\">0.0885</td><td style = \"text-align: right;\">28.0</td><td style = \"text-align: right;\">-171.25</td><td style = \"text-align: right;\">-88.75</td><td style = \"text-align: left;\">2003-01-09T00:00:00</td></tr><tr><td class = \"rowNumber\" style = \"font-weight: bold; text-align: right;\">5</td><td style = \"font-style: italic; text-align: right;\">missing</td><td style = \"text-align: right;\">0.0885</td><td style = \"text-align: right;\">28.0</td><td style = \"text-align: right;\">-168.75</td><td style = \"text-align: right;\">-88.75</td><td style = \"text-align: left;\">2003-01-09T00:00:00</td></tr><tr><td class = \"rowNumber\" style = \"font-weight: bold; text-align: right;\">6</td><td style = \"font-style: italic; text-align: right;\">missing</td><td style = \"text-align: right;\">0.0885</td><td style = \"text-align: right;\">28.0</td><td style = \"text-align: right;\">-166.25</td><td style = \"text-align: right;\">-88.75</td><td style = \"text-align: left;\">2003-01-09T00:00:00</td></tr><tr><td class = \"rowNumber\" style = \"font-weight: bold; text-align: right;\">7</td><td style = \"font-style: italic; text-align: right;\">missing</td><td style = \"text-align: right;\">0.0885</td><td style = \"text-align: right;\">28.0</td><td style = \"text-align: right;\">-163.75</td><td style = \"text-align: right;\">-88.75</td><td style = \"text-align: left;\">2003-01-09T00:00:00</td></tr><tr><td class = \"rowNumber\" style = \"font-weight: bold; text-align: right;\">8</td><td style = \"font-style: italic; text-align: right;\">missing</td><td style = \"text-align: right;\">0.0885</td><td style = \"text-align: right;\">28.0</td><td style = \"text-align: right;\">-161.25</td><td style = \"text-align: right;\">-88.75</td><td style = \"text-align: left;\">2003-01-09T00:00:00</td></tr><tr><td class = \"rowNumber\" style = \"font-weight: bold; text-align: right;\">9</td><td style = \"font-style: italic; text-align: right;\">missing</td><td style = \"text-align: right;\">0.0885</td><td style = \"text-align: right;\">28.0</td><td style = \"text-align: right;\">-158.75</td><td style = \"text-align: right;\">-88.75</td><td style = \"text-align: left;\">2003-01-09T00:00:00</td></tr><tr><td class = \"rowNumber\" style = \"font-weight: bold; text-align: right;\">10</td><td style = \"font-style: italic; text-align: right;\">missing</td><td style = \"text-align: right;\">0.0885</td><td style = \"text-align: right;\">28.0</td><td style = \"text-align: right;\">-156.25</td><td style = \"text-align: right;\">-88.75</td><td style = \"text-align: left;\">2003-01-09T00:00:00</td></tr><tr><td class = \"rowNumber\" style = \"font-weight: bold; text-align: right;\">11</td><td style = \"font-style: italic; text-align: right;\">missing</td><td style = \"text-align: right;\">0.0885</td><td style = \"text-align: right;\">28.0</td><td style = \"text-align: right;\">-153.75</td><td style = \"text-align: right;\">-88.75</td><td style = \"text-align: left;\">2003-01-09T00:00:00</td></tr><tr><td class = \"rowNumber\" style = \"font-weight: bold; text-align: right;\">12</td><td style = \"font-style: italic; text-align: right;\">missing</td><td style = \"text-align: right;\">0.0885</td><td style = \"text-align: right;\">28.0</td><td style = \"text-align: right;\">-151.25</td><td style = \"text-align: right;\">-88.75</td><td style = \"text-align: left;\">2003-01-09T00:00:00</td></tr><tr><td class = \"rowNumber\" style = \"font-weight: bold; text-align: right;\">13</td><td style = \"font-style: italic; text-align: right;\">missing</td><td style = \"text-align: right;\">0.0885</td><td style = \"text-align: right;\">28.0</td><td style = \"text-align: right;\">-148.75</td><td style = \"text-align: right;\">-88.75</td><td style = \"text-align: left;\">2003-01-09T00:00:00</td></tr><tr><td style = \"text-align: right;\">&vellip;</td><td style = \"text-align: right;\">&vellip;</td><td style = \"text-align: right;\">&vellip;</td><td style = \"text-align: right;\">&vellip;</td><td style = \"text-align: right;\">&vellip;</td><td style = \"text-align: right;\">&vellip;</td><td style = \"text-align: right;\">&vellip;</td></tr><tr><td class = \"rowNumber\" style = \"font-weight: bold; text-align: right;\">2384629</td><td style = \"font-style: italic; text-align: right;\">missing</td><td style = \"text-align: right;\">missing</td><td style = \"text-align: right;\">29.0</td><td style = \"text-align: right;\">151.25</td><td style = \"text-align: right;\">88.75</td><td style = \"text-align: left;\">2012-12-26T00:00:00</td></tr><tr><td class = \"rowNumber\" style = \"font-weight: bold; text-align: right;\">2384630</td><td style = \"font-style: italic; text-align: right;\">missing</td><td style = \"text-align: right;\">missing</td><td style = \"text-align: right;\">29.0</td><td style = \"text-align: right;\">153.75</td><td style = \"text-align: right;\">88.75</td><td style = \"text-align: left;\">2012-12-26T00:00:00</td></tr><tr><td class = \"rowNumber\" style = \"font-weight: bold; text-align: right;\">2384631</td><td style = \"font-style: italic; text-align: right;\">missing</td><td style = \"text-align: right;\">missing</td><td style = \"text-align: right;\">29.0</td><td style = \"text-align: right;\">156.25</td><td style = \"text-align: right;\">88.75</td><td style = \"text-align: left;\">2012-12-26T00:00:00</td></tr><tr><td class = \"rowNumber\" style = \"font-weight: bold; text-align: right;\">2384632</td><td style = \"font-style: italic; text-align: right;\">missing</td><td style = \"text-align: right;\">missing</td><td style = \"text-align: right;\">29.0</td><td style = \"text-align: right;\">158.75</td><td style = \"text-align: right;\">88.75</td><td style = \"text-align: left;\">2012-12-26T00:00:00</td></tr><tr><td class = \"rowNumber\" style = \"font-weight: bold; text-align: right;\">2384633</td><td style = \"font-style: italic; text-align: right;\">missing</td><td style = \"text-align: right;\">missing</td><td style = \"text-align: right;\">29.0</td><td style = \"text-align: right;\">161.25</td><td style = \"text-align: right;\">88.75</td><td style = \"text-align: left;\">2012-12-26T00:00:00</td></tr><tr><td class = \"rowNumber\" style = \"font-weight: bold; text-align: right;\">2384634</td><td style = \"font-style: italic; text-align: right;\">missing</td><td style = \"text-align: right;\">missing</td><td style = \"text-align: right;\">29.0</td><td style = \"text-align: right;\">163.75</td><td style = \"text-align: right;\">88.75</td><td style = \"text-align: left;\">2012-12-26T00:00:00</td></tr><tr><td class = \"rowNumber\" style = \"font-weight: bold; text-align: right;\">2384635</td><td style = \"font-style: italic; text-align: right;\">missing</td><td style = \"text-align: right;\">missing</td><td style = \"text-align: right;\">29.0</td><td style = \"text-align: right;\">166.25</td><td style = \"text-align: right;\">88.75</td><td style = \"text-align: left;\">2012-12-26T00:00:00</td></tr><tr><td class = \"rowNumber\" style = \"font-weight: bold; text-align: right;\">2384636</td><td style = \"font-style: italic; text-align: right;\">missing</td><td style = \"text-align: right;\">missing</td><td style = \"text-align: right;\">29.0</td><td style = \"text-align: right;\">168.75</td><td style = \"text-align: right;\">88.75</td><td style = \"text-align: left;\">2012-12-26T00:00:00</td></tr><tr><td class = \"rowNumber\" style = \"font-weight: bold; text-align: right;\">2384637</td><td style = \"font-style: italic; text-align: right;\">missing</td><td style = \"text-align: right;\">missing</td><td style = \"text-align: right;\">29.0</td><td style = \"text-align: right;\">171.25</td><td style = \"text-align: right;\">88.75</td><td style = \"text-align: left;\">2012-12-26T00:00:00</td></tr><tr><td class = \"rowNumber\" style = \"font-weight: bold; text-align: right;\">2384638</td><td style = \"font-style: italic; text-align: right;\">missing</td><td style = \"text-align: right;\">missing</td><td style = \"text-align: right;\">29.0</td><td style = \"text-align: right;\">173.75</td><td style = \"text-align: right;\">88.75</td><td style = \"text-align: left;\">2012-12-26T00:00:00</td></tr><tr><td class = \"rowNumber\" style = \"font-weight: bold; text-align: right;\">2384639</td><td style = \"font-style: italic; text-align: right;\">missing</td><td style = \"text-align: right;\">missing</td><td style = \"text-align: right;\">29.0</td><td style = \"text-align: right;\">176.25</td><td style = \"text-align: right;\">88.75</td><td style = \"text-align: left;\">2012-12-26T00:00:00</td></tr><tr><td class = \"rowNumber\" style = \"font-weight: bold; text-align: right;\">2384640</td><td style = \"font-style: italic; text-align: right;\">missing</td><td style = \"text-align: right;\">missing</td><td style = \"text-align: right;\">29.0</td><td style = \"text-align: right;\">178.75</td><td style = \"text-align: right;\">88.75</td><td style = \"text-align: left;\">2012-12-26T00:00:00</td></tr></tbody></table></div>"
      ],
      "text/latex": [
       "\\begin{tabular}{r|cccccc}\n",
       "\t& gpp & moisture & region & lon & lat & Ti\\\\\n",
       "\t\\hline\n",
       "\t& Float32? & Float32? & Float32? & Float64 & Float64 & DateTime\\\\\n",
       "\t\\hline\n",
       "\t1 & \\emph{missing} & 0.0885 & 28.0 & -178.75 & -88.75 & 2003-01-09T00:00:00 \\\\\n",
       "\t2 & \\emph{missing} & 0.0885 & 28.0 & -176.25 & -88.75 & 2003-01-09T00:00:00 \\\\\n",
       "\t3 & \\emph{missing} & 0.0885 & 28.0 & -173.75 & -88.75 & 2003-01-09T00:00:00 \\\\\n",
       "\t4 & \\emph{missing} & 0.0885 & 28.0 & -171.25 & -88.75 & 2003-01-09T00:00:00 \\\\\n",
       "\t5 & \\emph{missing} & 0.0885 & 28.0 & -168.75 & -88.75 & 2003-01-09T00:00:00 \\\\\n",
       "\t6 & \\emph{missing} & 0.0885 & 28.0 & -166.25 & -88.75 & 2003-01-09T00:00:00 \\\\\n",
       "\t7 & \\emph{missing} & 0.0885 & 28.0 & -163.75 & -88.75 & 2003-01-09T00:00:00 \\\\\n",
       "\t8 & \\emph{missing} & 0.0885 & 28.0 & -161.25 & -88.75 & 2003-01-09T00:00:00 \\\\\n",
       "\t9 & \\emph{missing} & 0.0885 & 28.0 & -158.75 & -88.75 & 2003-01-09T00:00:00 \\\\\n",
       "\t10 & \\emph{missing} & 0.0885 & 28.0 & -156.25 & -88.75 & 2003-01-09T00:00:00 \\\\\n",
       "\t11 & \\emph{missing} & 0.0885 & 28.0 & -153.75 & -88.75 & 2003-01-09T00:00:00 \\\\\n",
       "\t12 & \\emph{missing} & 0.0885 & 28.0 & -151.25 & -88.75 & 2003-01-09T00:00:00 \\\\\n",
       "\t13 & \\emph{missing} & 0.0885 & 28.0 & -148.75 & -88.75 & 2003-01-09T00:00:00 \\\\\n",
       "\t14 & \\emph{missing} & 0.0885 & 28.0 & -146.25 & -88.75 & 2003-01-09T00:00:00 \\\\\n",
       "\t15 & \\emph{missing} & 0.0885 & 28.0 & -143.75 & -88.75 & 2003-01-09T00:00:00 \\\\\n",
       "\t16 & \\emph{missing} & 0.0885 & 28.0 & -141.25 & -88.75 & 2003-01-09T00:00:00 \\\\\n",
       "\t17 & \\emph{missing} & 0.0885 & 28.0 & -138.75 & -88.75 & 2003-01-09T00:00:00 \\\\\n",
       "\t18 & \\emph{missing} & 0.0885 & 28.0 & -136.25 & -88.75 & 2003-01-09T00:00:00 \\\\\n",
       "\t19 & \\emph{missing} & 0.0885 & 28.0 & -133.75 & -88.75 & 2003-01-09T00:00:00 \\\\\n",
       "\t20 & \\emph{missing} & 0.0885 & 28.0 & -131.25 & -88.75 & 2003-01-09T00:00:00 \\\\\n",
       "\t21 & \\emph{missing} & 0.0885 & 28.0 & -128.75 & -88.75 & 2003-01-09T00:00:00 \\\\\n",
       "\t22 & \\emph{missing} & 0.0885 & 28.0 & -126.25 & -88.75 & 2003-01-09T00:00:00 \\\\\n",
       "\t23 & \\emph{missing} & 0.0885 & 28.0 & -123.75 & -88.75 & 2003-01-09T00:00:00 \\\\\n",
       "\t24 & \\emph{missing} & 0.0885 & 28.0 & -121.25 & -88.75 & 2003-01-09T00:00:00 \\\\\n",
       "\t25 & \\emph{missing} & 0.0885 & 28.0 & -118.75 & -88.75 & 2003-01-09T00:00:00 \\\\\n",
       "\t26 & \\emph{missing} & 0.0885 & 28.0 & -116.25 & -88.75 & 2003-01-09T00:00:00 \\\\\n",
       "\t27 & \\emph{missing} & 0.0885 & 28.0 & -113.75 & -88.75 & 2003-01-09T00:00:00 \\\\\n",
       "\t28 & \\emph{missing} & 0.0885 & 28.0 & -111.25 & -88.75 & 2003-01-09T00:00:00 \\\\\n",
       "\t29 & \\emph{missing} & 0.0885 & 28.0 & -108.75 & -88.75 & 2003-01-09T00:00:00 \\\\\n",
       "\t30 & \\emph{missing} & 0.0885 & 28.0 & -106.25 & -88.75 & 2003-01-09T00:00:00 \\\\\n",
       "\t$\\dots$ & $\\dots$ & $\\dots$ & $\\dots$ & $\\dots$ & $\\dots$ & $\\dots$ \\\\\n",
       "\\end{tabular}\n"
      ],
      "text/plain": [
       "\u001b[1m2384640×6 DataFrame\u001b[0m\n",
       "\u001b[1m     Row \u001b[0m│\u001b[1m gpp      \u001b[0m\u001b[1m moisture     \u001b[0m\u001b[1m region   \u001b[0m\u001b[1m lon     \u001b[0m\u001b[1m lat     \u001b[0m\u001b[1m Ti             \u001b[0m ⋯\n",
       "         │\u001b[90m Float32? \u001b[0m\u001b[90m Float32?     \u001b[0m\u001b[90m Float32? \u001b[0m\u001b[90m Float64 \u001b[0m\u001b[90m Float64 \u001b[0m\u001b[90m DateTime       \u001b[0m ⋯\n",
       "─────────┼──────────────────────────────────────────────────────────────────────\n",
       "       1 │\u001b[90m  missing \u001b[0m       0.0885      28.0  -178.75   -88.75  2003-01-09T00:0 ⋯\n",
       "       2 │\u001b[90m  missing \u001b[0m       0.0885      28.0  -176.25   -88.75  2003-01-09T00:0\n",
       "       3 │\u001b[90m  missing \u001b[0m       0.0885      28.0  -173.75   -88.75  2003-01-09T00:0\n",
       "       4 │\u001b[90m  missing \u001b[0m       0.0885      28.0  -171.25   -88.75  2003-01-09T00:0\n",
       "       5 │\u001b[90m  missing \u001b[0m       0.0885      28.0  -168.75   -88.75  2003-01-09T00:0 ⋯\n",
       "       6 │\u001b[90m  missing \u001b[0m       0.0885      28.0  -166.25   -88.75  2003-01-09T00:0\n",
       "       7 │\u001b[90m  missing \u001b[0m       0.0885      28.0  -163.75   -88.75  2003-01-09T00:0\n",
       "       8 │\u001b[90m  missing \u001b[0m       0.0885      28.0  -161.25   -88.75  2003-01-09T00:0\n",
       "       9 │\u001b[90m  missing \u001b[0m       0.0885      28.0  -158.75   -88.75  2003-01-09T00:0 ⋯\n",
       "      10 │\u001b[90m  missing \u001b[0m       0.0885      28.0  -156.25   -88.75  2003-01-09T00:0\n",
       "      11 │\u001b[90m  missing \u001b[0m       0.0885      28.0  -153.75   -88.75  2003-01-09T00:0\n",
       "    ⋮    │    ⋮           ⋮           ⋮         ⋮        ⋮              ⋮      ⋱\n",
       " 2384631 │\u001b[90m  missing \u001b[0m\u001b[90m missing      \u001b[0m     29.0   156.25    88.75  2012-12-26T00:0\n",
       " 2384632 │\u001b[90m  missing \u001b[0m\u001b[90m missing      \u001b[0m     29.0   158.75    88.75  2012-12-26T00:0 ⋯\n",
       " 2384633 │\u001b[90m  missing \u001b[0m\u001b[90m missing      \u001b[0m     29.0   161.25    88.75  2012-12-26T00:0\n",
       " 2384634 │\u001b[90m  missing \u001b[0m\u001b[90m missing      \u001b[0m     29.0   163.75    88.75  2012-12-26T00:0\n",
       " 2384635 │\u001b[90m  missing \u001b[0m\u001b[90m missing      \u001b[0m     29.0   166.25    88.75  2012-12-26T00:0\n",
       " 2384636 │\u001b[90m  missing \u001b[0m\u001b[90m missing      \u001b[0m     29.0   168.75    88.75  2012-12-26T00:0 ⋯\n",
       " 2384637 │\u001b[90m  missing \u001b[0m\u001b[90m missing      \u001b[0m     29.0   171.25    88.75  2012-12-26T00:0\n",
       " 2384638 │\u001b[90m  missing \u001b[0m\u001b[90m missing      \u001b[0m     29.0   173.75    88.75  2012-12-26T00:0\n",
       " 2384639 │\u001b[90m  missing \u001b[0m\u001b[90m missing      \u001b[0m     29.0   176.25    88.75  2012-12-26T00:0\n",
       " 2384640 │\u001b[90m  missing \u001b[0m\u001b[90m missing      \u001b[0m     29.0   178.75    88.75  2012-12-26T00:0 ⋯\n",
       "\u001b[36m                                               1 column and 2384619 rows omitted\u001b[0m"
      ]
     },
     "execution_count": 39,
     "metadata": {},
     "output_type": "execute_result"
    }
   ],
   "source": [
    "using DataFrames, Base.Iterators\n",
    "@time df = DataFrame(t[1])\n",
    "# summary(df)\n",
    "# first(df,5)"
   ]
  },
  {
   "cell_type": "code",
   "execution_count": 40,
   "id": "4ac37f12-b9c1-4b41-af7c-f163f9910766",
   "metadata": {},
   "outputs": [
    {
     "data": {
      "text/plain": [
       "33-element Vector{Any}:\n",
       " \"ALA\"\n",
       " \"AMZ\"\n",
       " \"CAM\"\n",
       " \"CAR*\"\n",
       " \"CAS\"\n",
       " \"CEU\"\n",
       " \"CGI\"\n",
       " \"CNA\"\n",
       " \"EAF\"\n",
       " \"EAS\"\n",
       " \"ENA\"\n",
       " \"MED\"\n",
       " \"NAS\"\n",
       " ⋮\n",
       " \"SSA\"\n",
       " \"TIB\"\n",
       " \"WAF\"\n",
       " \"WAS\"\n",
       " \"WNA\"\n",
       " \"WSA\"\n",
       " \"ANT*\"\n",
       " \"ARC*\"\n",
       " \"NTP*\"\n",
       " \"STP*\"\n",
       " \"ETP*\"\n",
       " \"WIO*\""
      ]
     },
     "execution_count": 40,
     "metadata": {},
     "output_type": "execute_result"
    }
   ],
   "source": [
    "# reigions' table with names, labels (abbreviations), ID, and coordinates\n",
    "regions_df = [\"region\" \"label\" \"id\" \"lon\" \"lat\";\n",
    "\"Alaska/N.W. Canada\" \"ALA\" 1 -136.5 60.3;\n",
    "\"Amazon\" \"AMZ\" 2 -75.04506 -3.772654;\n",
    "\"Central America/Mexico\" \"CAM\" 3 -96.24961 5.633803;\n",
    "\"small islands regions Caribbean\" \"CAR*\" 4 -73.4605 16.31368;\n",
    "\"Central Asia\" \"CAS\" 5 55 40\n",
    "\"Central Europe\" \"CEU\" 6 5.74266 43.588774;\n",
    "\"Canada/Greenland/Iceland\" \"CGI\" 7 -63.5 50.5;\n",
    "\"Central North America\" \"CNA\" 8 -99 39.3\n",
    "\"East Africa\" \"EAF\" 9 30.5 0;\n",
    "\"East Asia\" \"EAS\" 10 105.5 35;\n",
    "\"East North America\" \"ENA\" 11 -72.5 31;\n",
    "\"South Europe/Mediterranean\" \"MED\" 12 10 33;\n",
    "\"North Asia\" \"NAS\" 13 90 50;\n",
    "\"North Australia\" \"NAU\" 14 122.5 -20;\n",
    "\"North-East Brazil\" \"NEB\" 15 -56 -14;\n",
    "\"North Europe\" \"NEU\" 16 12.27682 54.462817;\n",
    "\"Southern Africa\" \"SAF\" 17 21 -23.2;\n",
    "\"Sahara\" \"SAH\" 18 5 20;\n",
    "\"South Asia\" \"SAS\" 19 70.58108 17.905405;\n",
    "\"South Australia/New Zealand\" \"SAU\" 20 145 -40;\n",
    "\"Southeast Asia\" \"SEA\" 21 115 5;\n",
    "\"Southeastern South America\" \"SSA\" 22 -60.4941 -40.763987;\n",
    "\"Tibetan Plateau\" \"TIB\" 23 77.5 30;\n",
    "\"West Africa\" \"WAF\" 24 2.5 1.8;\n",
    "\"West Asia\" \"WAS\" 25 37 30;\n",
    "\"West North America\" \"WNA\" 26 -131.5 44.3;\n",
    "\"West Coast South America\" \"WSA\" 27 -75.88257 -30.783;\n",
    "\"Antarctica\" \"ANT*\" 28 0 -70;\n",
    "\"Arctic\" \"ARC*\" 29 -10 66.75;\n",
    "\"Pacific Islands region[2]\" \"NTP*\" 30 182.5 15;\n",
    "\"Southern Topical Pacific\" \"STP*\" 31 192.5 -15;\n",
    "\"Pacific Islands region[3]\" \"ETP*\" 32 182.5 0;\n",
    "\"West Indian Ocean\" \"WIO*\" 33 63.5 -10]\n",
    "\n",
    "# subset solely the region labels for further use\n",
    "labels_ipcc = regions_df[2:end,2]\n"
   ]
  },
  {
   "cell_type": "code",
   "execution_count": null,
   "id": "c3fa5df7-2d50-4fc6-98ae-ddd931934296",
   "metadata": {},
   "outputs": [],
   "source": [
    "function weightedhistograms_by_region(df, labels)\n",
    "    hists = [WeightedHist((0.0:0.1:12,0:0.01:1)) for _ in eachindex(labels_ipcc)]\n",
    "    for row in Tables.rows(df)\n",
    "        # if all data are there\n",
    "        if !any(ismissing, (row.gpp, row.moisture, row.region))\n",
    "            # we select the appropriate histogram according to the region the data point belongs to\n",
    "            h = hists[Int(row.region)]\n",
    "            # and we fit the two data points to the histogram, weight by cos of lat\n",
    "            fit!(h, (row.gpp, row.moisture), cosd(row.lat))\n",
    "        end\n",
    "    end\n",
    "\n",
    "    # we create the axes for the new output data cube\n",
    "    midpointsgpp   = 0.05:0.1:11.95\n",
    "    midpointsmoist = 0.005:0.01:0.995\n",
    "    newaxes = (\n",
    "        Dim{:SREX}([labels[i] for i in 1:33]),\n",
    "        Dim{:GPP}(midpointsgpp),\n",
    "        Dim{:Moisture}(midpointsmoist)\n",
    "        )\n",
    "    # and create the new cube object\n",
    "    data = [WeightedOnlineStats.pdf(hists[reg],(g,m)) for reg in 1:33, g in midpointsgpp, m in midpointsmoist]\n",
    "    data = replace(data,NaN => missing, 0 => missing)\n",
    "    YAXArray(newaxes, data)\n",
    "end\n",
    "\n",
    "r = weightedhistograms_by_region(df, labels_ipcc);\n",
    "\n",
    "rdata = mapslices(r,dims=(\"GPP\",\"Moisture\")) do xin\n",
    "    xin ./ maximum(skipmissing(xin))\n",
    "end\n"
   ]
  }
 ],
 "metadata": {
  "kernelspec": {
   "display_name": "Julia 1.9.3",
   "language": "julia",
   "name": "julia-1.9"
  },
  "language_info": {
   "file_extension": ".jl",
   "mimetype": "application/julia",
   "name": "julia",
   "version": "1.9.3"
  }
 },
 "nbformat": 4,
 "nbformat_minor": 5
}
