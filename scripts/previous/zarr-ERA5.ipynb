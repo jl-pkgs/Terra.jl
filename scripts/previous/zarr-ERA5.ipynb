{
 "cells": [
  {
   "cell_type": "markdown",
   "id": "bfb43d5a-979a-4842-ac16-cb513c71eaa3",
   "metadata": {},
   "source": [
    "## ERA5 Zarr数据说明\n",
    "\n",
    "- 1. <https://home.chpc.utah.edu/~u0553130/Brian_Blaylock/cgi-bin/generic_AWS_download.cgi?DATASET=era5-pds&BUCKET=zarr/2023/08/data>\n",
    "- 2. <https://registry.opendata.aws/ecmwf-era5/>\n",
    " \r\n",
    "```bash\r\n",
    "# scoop install aws\r\n",
    "aws s3 ls --no-sign-request s3://era5-pds/zarr/2023/08/data/\r\n",
    "\r\n",
    "PRE air_pressure_at_mean_sea_level.zarr/\r\n",
    "PRE air_temperature_at_2_metres.zarr/\r\n",
    "PRE air_temperature_at_2_metres_1hour_Maximum.zarr/\r\n",
    "PRE air_temperature_at_2_metres_1hour_Minimum.zarr/\r\n",
    "PRE dew_point_temperature_at_2_metres.zarr/\r\n",
    "PRE eastward_wind_at_100_metres.zarr/\r\n",
    "PRE eastward_wind_at_10_metres.zarr/\r\n",
    "PRE integral_wrt_time_of_surface_direct_downwelling_shortwave_flux_in_air_1hour_Accumulation.zarr/\r\n",
    "PRE lwe_thickness_of_surface_snow_amount.zarr/\r\n",
    "PRE northward_wind_at_100_metres.zarr/\r\n",
    "PRE northward_wind_at_10_metres.zarr/\r\n",
    "PRE precipitation_amount_1hour_Accumulation.zarr/\r\n",
    "PRE sea_surface_temperature.zarr/\r\n",
    "PRE snow_density.zarr/\r\n",
    "PRE surface_air_pressure.zarr/\r\n",
    "```"
   ]
  },
  {
   "cell_type": "code",
   "execution_count": 49,
   "id": "f3542ff7-1500-4f35-9dda-e4391b005294",
   "metadata": {
    "execution": {
     "iopub.execute_input": "2023-09-30T18:29:10.644",
     "iopub.status.busy": "2023-09-30T18:29:10.644",
     "iopub.status.idle": "2023-09-30T18:29:11.013",
     "shell.execute_reply": "2023-09-30T18:29:11.013"
    }
   },
   "outputs": [
    {
     "data": {
      "text/plain": [
       "15-element Vector{String}:\n",
       " \"air_pressure_at_mean_sea_level.zarr/\"\n",
       " \"air_temperature_at_2_metres.zarr/\"\n",
       " \"air_temperature_at_2_metres_1hour_Maximum.zarr/\"\n",
       " \"air_temperature_at_2_metres_1hour_Minimum.zarr/\"\n",
       " \"dew_point_temperature_at_2_metres.zarr/\"\n",
       " \"eastward_wind_at_100_metres.zarr/\"\n",
       " \"eastward_wind_at_10_metres.zarr/\"\n",
       " \"integral_wrt_time_of_surface_di\" ⋯ 32 bytes ⋯ \"in_air_1hour_Accumulation.zarr/\"\n",
       " \"lwe_thickness_of_surface_snow_amount.zarr/\"\n",
       " \"northward_wind_at_100_metres.zarr/\"\n",
       " \"northward_wind_at_10_metres.zarr/\"\n",
       " \"precipitation_amount_1hour_Accumulation.zarr/\"\n",
       " \"sea_surface_temperature.zarr/\"\n",
       " \"snow_density.zarr/\"\n",
       " \"surface_air_pressure.zarr/\""
      ]
     },
     "execution_count": 49,
     "metadata": {},
     "output_type": "execute_result"
    }
   ],
   "source": [
    "vars = [\n",
    "\t\"air_pressure_at_mean_sea_level.zarr/\", \n",
    "\t\"air_temperature_at_2_metres.zarr/\", \n",
    "\t\"air_temperature_at_2_metres_1hour_Maximum.zarr/\", \n",
    "\t\"air_temperature_at_2_metres_1hour_Minimum.zarr/\", \n",
    "\t\"dew_point_temperature_at_2_metres.zarr/\", \n",
    "\t\"eastward_wind_at_100_metres.zarr/\", \n",
    "\t\"eastward_wind_at_10_metres.zarr/\", \n",
    "\t\"integral_wrt_time_of_surface_direct_downwelling_shortwave_flux_in_air_1hour_Accumulation.zarr/\", \n",
    "\t\"lwe_thickness_of_surface_snow_amount.zarr/\", \n",
    "\t\"northward_wind_at_100_metres.zarr/\", \n",
    "\t\"northward_wind_at_10_metres.zarr/\", \n",
    "\t\"precipitation_amount_1hour_Accumulation.zarr/\", \n",
    "\t\"sea_surface_temperature.zarr/\", \n",
    "\t\"snow_density.zarr/\", \n",
    "\t\"surface_air_pressure.zarr/\"\n",
    "]\n",
    "# 提供了15个变量的在线访问与下载"
   ]
  },
  {
   "cell_type": "markdown",
   "id": "928b936a-0b5f-4e7d-b03a-7d6af1270a94",
   "metadata": {},
   "source": [
    "# 1. Zarr"
   ]
  },
  {
   "cell_type": "code",
   "execution_count": 27,
   "id": "84b8d5cc-cf39-4f27-b163-261f7a706b1a",
   "metadata": {
    "execution": {
     "iopub.execute_input": "2023-09-30T18:04:42.263",
     "iopub.status.busy": "2023-09-30T18:04:42.263",
     "iopub.status.idle": "2023-09-30T18:04:42.615",
     "shell.execute_reply": "2023-09-30T18:04:42.614"
    }
   },
   "outputs": [
    {
     "data": {
      "text/plain": [
       "chunksize (generic function with 1 method)"
      ]
     },
     "execution_count": 27,
     "metadata": {},
     "output_type": "execute_result"
    }
   ],
   "source": [
    "using Zarr, YAXArrays\n",
    "include(\"main_cube.jl\")"
   ]
  },
  {
   "cell_type": "code",
   "execution_count": 11,
   "id": "0bd52092-ad3a-4e59-8376-d7617dbbf52b",
   "metadata": {
    "execution": {
     "iopub.execute_input": "2023-09-30T17:50:17.122",
     "iopub.status.busy": "2023-09-30T17:50:17.122",
     "iopub.status.idle": "2023-09-30T17:50:19.767",
     "shell.execute_reply": "2023-09-30T17:50:19.767"
    }
   },
   "outputs": [
    {
     "data": {
      "text/plain": [
       "ZarrGroup at Consolidated Consolidated Zarr.HTTPStore(\"https://era5-pds.s3.amazonaws.com/zarr/2023/08/data/air_pressure_at_mean_sea_level.zarr\") and path \n",
       "Variables: lat time0 air_pressure_at_mean_sea_level lon "
      ]
     },
     "execution_count": 11,
     "metadata": {},
     "output_type": "execute_result"
    }
   ],
   "source": [
    "f = \"https://era5-pds.s3.amazonaws.com/zarr/2023/08/data/air_pressure_at_mean_sea_level.zarr\"\n",
    "# 只能一个月，一个变量的方式进行下载数据\n",
    "z = zopen(f, consolidated=true)"
   ]
  },
  {
   "cell_type": "code",
   "execution_count": 13,
   "id": "c64ddd44-c255-469f-a70a-dabd4cc67555",
   "metadata": {
    "execution": {
     "iopub.execute_input": "2023-09-30T17:54:11.156",
     "iopub.status.busy": "2023-09-30T17:54:11.156",
     "iopub.status.idle": "2023-09-30T17:54:13.351",
     "shell.execute_reply": "2023-09-30T17:54:13.351"
    }
   },
   "outputs": [
    {
     "data": {
      "text/plain": [
       "Dict{String, ZArray} with 4 entries:\n",
       "  \"lat\"                            => ZArray{Float32} of size 721\n",
       "  \"time0\"                          => ZArray{Float64} of size 744\n",
       "  \"air_pressure_at_mean_sea_level\" => ZArray{Float32} of size 1440 x 721 x 744\n",
       "  \"lon\"                            => ZArray{Float32} of size 1440"
      ]
     },
     "execution_count": 13,
     "metadata": {},
     "output_type": "execute_result"
    }
   ],
   "source": [
    "# z[\"air_pressure_at_mean_sea_level\"]\n",
    "z.arrays"
   ]
  },
  {
   "cell_type": "code",
   "execution_count": null,
   "id": "92419616-c522-4857-a793-2ef888acb28e",
   "metadata": {},
   "outputs": [],
   "source": [
    "lat = z[\"lat\"][:]\n",
    "lon = z[\"lon\"][:]"
   ]
  },
  {
   "cell_type": "code",
   "execution_count": 21,
   "id": "f7553145-ec23-425c-8dc0-a0806bd0076f",
   "metadata": {
    "execution": {
     "iopub.execute_input": "2023-09-30T17:59:04.128",
     "iopub.status.busy": "2023-09-30T17:59:04.128",
     "iopub.status.idle": "2023-09-30T17:59:21.517",
     "shell.execute_reply": "2023-09-30T17:59:21.516"
    }
   },
   "outputs": [
    {
     "name": "stdout",
     "output_type": "stream",
     "text": [
      " 17.003729 seconds (4.97 M allocations: 900.857 MiB, 1.49% gc time, 12.92% compilation time)\n"
     ]
    }
   ],
   "source": [
    "function clip_region(lon, lat, range = [70, 140, 15, 55])\n",
    "    ilon = findall(@.(range[1] <= lon <= range[2]))\n",
    "    ilon = ilon[1]:ilon[end]\n",
    "    ilat = findall(@.(range[3] <= lat <= range[4]))\n",
    "    ilat = ilat[1]:ilat[end]\n",
    "    ilon, ilat\n",
    "end\n",
    "\n",
    "ilon, ilat = clip_region(lon, lat)\n",
    "# 获取中国的数据\n",
    "@time data = z[\"air_pressure_at_mean_sea_level\"][ilon, ilat, :];\n",
    "# 自己构建YAXArrays速度可能会稍微快一点"
   ]
  },
  {
   "cell_type": "code",
   "execution_count": 23,
   "id": "d75aa122-35d5-410b-a98b-6e1581dd797e",
   "metadata": {
    "execution": {
     "iopub.execute_input": "2023-09-30T17:59:37.950",
     "iopub.status.busy": "2023-09-30T17:59:37.950",
     "iopub.status.idle": "2023-09-30T17:59:51.919",
     "shell.execute_reply": "2023-09-30T17:59:51.919"
    }
   },
   "outputs": [
    {
     "name": "stderr",
     "output_type": "stream",
     "text": [
      "\u001b[36m\u001b[1m[ \u001b[22m\u001b[39m\u001b[36m\u001b[1mInfo: \u001b[22m\u001b[39mPrecompiling Ipaper [e58298cb-69f7-4186-aecd-5834b6793426]\n",
      "\u001b[36m\u001b[1m[ \u001b[22m\u001b[39m\u001b[36m\u001b[1mInfo: \u001b[22m\u001b[39mPrecompiling IpaperSlopeExt [3187b56e-9583-5004-b811-c64661423187]\n"
     ]
    },
    {
     "name": "stdout",
     "output_type": "stream",
     "text": [
      "Array{Float32, 3} | (281, 161, 744) | \u001b[34m\u001b[1m\u001b[4m128.4 Mb\u001b[24m\u001b[22m\u001b[39m\n"
     ]
    }
   ],
   "source": [
    "## 然后是如何保存数据\n",
    "using Ipaper\n",
    "obj_size(data)"
   ]
  },
  {
   "cell_type": "code",
   "execution_count": 24,
   "id": "4e2e2fcb-02b3-46dc-aa53-a85b0276326d",
   "metadata": {
    "execution": {
     "iopub.execute_input": "2023-09-30T18:00:34.048",
     "iopub.status.busy": "2023-09-30T18:00:33.883",
     "iopub.status.idle": "2023-09-30T18:00:35.453",
     "shell.execute_reply": "2023-09-30T18:00:35.452"
    }
   },
   "outputs": [
    {
     "ename": "LoadError",
     "evalue": "ArgumentError: Could not find consolidated metadata for store Zarr.HTTPStore(\"https://era5-pds.s3.amazonaws.com/zarr\")",
     "output_type": "error",
     "traceback": [
      "ArgumentError: Could not find consolidated metadata for store Zarr.HTTPStore(\"https://era5-pds.s3.amazonaws.com/zarr\")",
      "",
      "Stacktrace:",
      " [1] Zarr.ConsolidatedStore(s::Zarr.HTTPStore, p::String)",
      "   @ Zarr C:\\Users\\kong\\.julia\\packages\\Zarr\\jgFcc\\src\\Storage\\consolidated.jl:14",
      " [2] storefromstring(#unused#::Type{Zarr.HTTPStore}, s::String, #unused#::Bool)",
      "   @ Zarr C:\\Users\\kong\\.julia\\packages\\Zarr\\jgFcc\\src\\Storage\\http.jl:33",
      " [3] storefromstring(s::String, create::Bool)",
      "   @ Zarr C:\\Users\\kong\\.julia\\packages\\Zarr\\jgFcc\\src\\ZGroup.jl:116",
      " [4] zopen(s::String, mode::String; kwargs::Base.Pairs{Symbol, Union{}, Tuple{}, NamedTuple{(), Tuple{}}})",
      "   @ Zarr C:\\Users\\kong\\.julia\\packages\\Zarr\\jgFcc\\src\\ZGroup.jl:109",
      " [5] zopen",
      "   @ C:\\Users\\kong\\.julia\\packages\\Zarr\\jgFcc\\src\\ZGroup.jl:108 [inlined]",
      " [6] zopen(s::String)",
      "   @ Zarr C:\\Users\\kong\\.julia\\packages\\Zarr\\jgFcc\\src\\ZGroup.jl:108",
      " [7] top-level scope",
      "   @ In[24]:2"
     ]
    }
   ],
   "source": [
    "f = \"https://era5-pds.s3.amazonaws.com/zarr\"\n",
    "z = zopen(f)"
   ]
  },
  {
   "cell_type": "markdown",
   "id": "2a73846d-548e-4bd4-8f6d-8ea4b9b80105",
   "metadata": {},
   "source": [
    "# 2. YAXArrays"
   ]
  },
  {
   "cell_type": "code",
   "execution_count": 26,
   "id": "fc6157f0-1967-4553-b4ba-85d30a98ac2e",
   "metadata": {
    "execution": {
     "iopub.execute_input": "2023-09-30T18:03:07.617",
     "iopub.status.busy": "2023-09-30T18:03:07.617",
     "iopub.status.idle": "2023-09-30T18:03:17.741",
     "shell.execute_reply": "2023-09-30T18:03:17.741"
    }
   },
   "outputs": [
    {
     "name": "stdout",
     "output_type": "stream",
     "text": [
      "  7.720878 seconds (5.24 M allocations: 342.242 MiB, 0.65% gc time, 74.22% compilation time: 8% of which was recompilation)\n"
     ]
    },
    {
     "data": {
      "text/plain": [
       "YAXArray Dataset\n",
       "Shared Axes: \n",
       "\u001b[31mDim{\u001b[39m\u001b[33m:lon\u001b[39m\u001b[31m}\u001b[39m Sampled{Float32} \u001b[36m0.0f0:0.25f0:359.75f0\u001b[39m ForwardOrdered Regular Points,\n",
       "\u001b[31mDim{\u001b[39m\u001b[33m:lat\u001b[39m\u001b[31m}\u001b[39m Sampled{Float32} \u001b[36m90.0f0:-0.25f0:-90.0f0\u001b[39m ReverseOrdered Regular Points,\n",
       "\u001b[31mTi\u001b[39m Sampled{DateTime} \u001b[36mDateTime[2023-08-01T00:00:00, …, 2023-08-31T23:00:00]\u001b[39m ForwardOrdered Irregular Points\n",
       "Variables: \n",
       "air_pressure_at_mean_sea_level, \n",
       "Properties: Dict{String, Any}(\"source\" => \"Reanalysis\", \"title\" => \"ERA5 forecasts\", \"institution\" => \"ECMWF\")\n"
      ]
     },
     "execution_count": 26,
     "metadata": {},
     "output_type": "execute_result"
    }
   ],
   "source": [
    "f = \"https://era5-pds.s3.amazonaws.com/zarr/\"\n",
    "f = \"https://era5-pds.s3.amazonaws.com/zarr/2023/08/data/air_pressure_at_mean_sea_level.zarr\"\n",
    "@time ds = open_dataset(f)"
   ]
  },
  {
   "cell_type": "code",
   "execution_count": 35,
   "id": "0a25784b-efd0-4abd-9060-9dfc7c74d75f",
   "metadata": {
    "execution": {
     "iopub.execute_input": "2023-09-30T18:08:01.957",
     "iopub.status.busy": "2023-09-30T18:08:01.957",
     "iopub.status.idle": "2023-09-30T18:08:18.506",
     "shell.execute_reply": "2023-09-30T18:08:18.505"
    }
   },
   "outputs": [
    {
     "name": "stdout",
     "output_type": "stream",
     "text": [
      " 16.483381 seconds (186.46 k allocations: 616.133 MiB, 0.20% gc time)\n"
     ]
    },
    {
     "data": {
      "text/plain": [
       "281×161×744 YAXArray{Float32,3}\u001b[90m with dimensions: \u001b[39m\n",
       "  \u001b[31mDim{\u001b[39m\u001b[33m:lon\u001b[39m\u001b[31m}\u001b[39m Sampled{Float32} \u001b[36m70.0f0:0.25f0:140.0f0\u001b[39m ForwardOrdered Regular Points,\n",
       "  \u001b[31mDim{\u001b[39m\u001b[33m:lat\u001b[39m\u001b[31m}\u001b[39m Sampled{Float32} \u001b[36m55.0f0:-0.25f0:15.0f0\u001b[39m ReverseOrdered Regular Points,\n",
       "  \u001b[31mTi\u001b[39m Sampled{DateTime} \u001b[36mDateTime[2023-08-01T00:00:00, …, 2023-08-31T23:00:00]\u001b[39m ForwardOrdered Irregular Points\n",
       "units: Pa\n",
       "name: air_pressure_at_mean_sea_level\n",
       "Total size: 128.4 MB\n"
      ]
     },
     "execution_count": 35,
     "metadata": {},
     "output_type": "execute_result"
    }
   ],
   "source": [
    "@time cube = ds[1][ilon, ilat, :]"
   ]
  },
  {
   "cell_type": "code",
   "execution_count": 36,
   "id": "7be2d026-4873-4f47-a2d5-e7c8b2d60213",
   "metadata": {
    "execution": {
     "iopub.execute_input": "2023-09-30T18:08:32.684",
     "iopub.status.busy": "2023-09-30T18:08:32.684",
     "iopub.status.idle": "2023-09-30T18:08:55.071",
     "shell.execute_reply": "2023-09-30T18:08:55.071"
    }
   },
   "outputs": [
    {
     "name": "stdout",
     "output_type": "stream",
     "text": [
      " 22.352102 seconds (187.22 k allocations: 1.163 GiB, 2.50% gc time)\n"
     ]
    },
    {
     "data": {
      "text/plain": [
       "281×161×744 YAXArray{Float32,3}\u001b[90m with dimensions: \u001b[39m\n",
       "  \u001b[31mDim{\u001b[39m\u001b[33m:lon\u001b[39m\u001b[31m}\u001b[39m Sampled{Float32} \u001b[36m70.0f0:0.25f0:140.0f0\u001b[39m ForwardOrdered Regular Points,\n",
       "  \u001b[31mDim{\u001b[39m\u001b[33m:lat\u001b[39m\u001b[31m}\u001b[39m Sampled{Float32} \u001b[36m55.0f0:-0.25f0:15.0f0\u001b[39m ReverseOrdered Regular Points,\n",
       "  \u001b[31mTi\u001b[39m Sampled{DateTime} \u001b[36mDateTime[2023-08-01T00:00:00, …, 2023-08-31T23:00:00]\u001b[39m ForwardOrdered Irregular Points\n",
       "units: Pa\n",
       "name: air_pressure_at_mean_sea_level\n",
       "Total size: 128.4 MB\n"
      ]
     },
     "execution_count": 36,
     "metadata": {},
     "output_type": "execute_result"
    }
   ],
   "source": [
    "# 然后是保存数据\n",
    "@time savecube(ds[1][ilon, ilat, :], \"datacube-ERA5/Pa\")"
   ]
  },
  {
   "cell_type": "code",
   "execution_count": 37,
   "id": "a33897c4-292b-4cb9-9cc8-3d04da9a2614",
   "metadata": {
    "execution": {
     "iopub.execute_input": "2023-09-30T18:10:44.480",
     "iopub.status.busy": "2023-09-30T18:10:44.480",
     "iopub.status.idle": "2023-09-30T18:11:03.307",
     "shell.execute_reply": "2023-09-30T18:11:03.307"
    }
   },
   "outputs": [
    {
     "name": "stdout",
     "output_type": "stream",
     "text": [
      " 18.771287 seconds (166.43 k allocations: 1.167 GiB, 3.38% gc time)\n"
     ]
    },
    {
     "data": {
      "text/plain": [
       "281×161×744 YAXArray{Float32,3}\u001b[90m with dimensions: \u001b[39m\n",
       "  \u001b[31mDim{\u001b[39m\u001b[33m:lon\u001b[39m\u001b[31m}\u001b[39m Sampled{Float32} \u001b[36m70.0f0:0.25f0:140.0f0\u001b[39m ForwardOrdered Regular Points,\n",
       "  \u001b[31mDim{\u001b[39m\u001b[33m:lat\u001b[39m\u001b[31m}\u001b[39m Sampled{Float32} \u001b[36m55.0f0:-0.25f0:15.0f0\u001b[39m ReverseOrdered Regular Points,\n",
       "  \u001b[31mTi\u001b[39m Sampled{DateTime} \u001b[36mDateTime[2023-08-01T00:00:00, …, 2023-08-31T23:00:00]\u001b[39m ForwardOrdered Irregular Points\n",
       "units: Pa\n",
       "name: air_pressure_at_mean_sea_level\n",
       "Total size: 128.4 MB\n"
      ]
     },
     "execution_count": 37,
     "metadata": {},
     "output_type": "execute_result"
    }
   ],
   "source": [
    "@time begin\n",
    "    c = ds[1][ilon, ilat, :]\n",
    "    savecube(c, \"datacube-ERA5/Pa-02\")\n",
    "end"
   ]
  },
  {
   "cell_type": "code",
   "execution_count": 48,
   "id": "10ed83b4-36dd-4502-8afc-1839394fb245",
   "metadata": {
    "execution": {
     "iopub.execute_input": "2023-09-30T18:19:26.072",
     "iopub.status.busy": "2023-09-30T18:19:26.072",
     "iopub.status.idle": "2023-09-30T18:19:31.198",
     "shell.execute_reply": "2023-09-30T18:19:31.193"
    }
   },
   "outputs": [
    {
     "name": "stdout",
     "output_type": "stream",
     "text": [
      "  5.083435 seconds (9.99 k allocations: 786.188 KiB)\n"
     ]
    },
    {
     "data": {
      "text/plain": [
       "YAXArray Dataset\n",
       "Shared Axes: \n",
       "\u001b[31mDim{\u001b[39m\u001b[33m:lon\u001b[39m\u001b[31m}\u001b[39m Sampled{Float32} \u001b[36m0.0f0:0.25f0:359.75f0\u001b[39m ForwardOrdered Regular Points,\n",
       "\u001b[31mDim{\u001b[39m\u001b[33m:lat\u001b[39m\u001b[31m}\u001b[39m Sampled{Float32} \u001b[36m90.0f0:-0.25f0:-90.0f0\u001b[39m ReverseOrdered Regular Points,\n",
       "\u001b[31mTi\u001b[39m Sampled{DateTime} \u001b[36mDateTime[2023-08-01T00:00:00, …, 2023-08-31T23:00:00]\u001b[39m ForwardOrdered Irregular Points\n",
       "Variables: \n",
       "air_temperature_at_2_metres, \n",
       "Properties: Dict{String, Any}(\"source\" => \"Reanalysis\", \"title\" => \"ERA5 forecasts\", \"institution\" => \"ECMWF\")\n"
      ]
     },
     "execution_count": 48,
     "metadata": {},
     "output_type": "execute_result"
    }
   ],
   "source": [
    "# Zarr.AWSS3.AWS.global_aws_config(Zarr.AWSS3.AWS.AWSConfig(creds=nothing)) # region=\"eu-west-2\"\n",
    "\n",
    "year = 2023\n",
    "month = @sprintf(\"%02d\", 8)\n",
    "\n",
    "vars = [\"air_temperature_at_2_metres\",\n",
    "   \"dew_point_temperature_at_2_metres\",\n",
    "   \"air_pressure_at_mean_sea_level\",\n",
    "   \"northward_wind_at_10_metres\",\n",
    "   \"eastward_wind_at_10_metres\"]\n",
    "var = vars[1]\n",
    "f = \"s3://era5-pds/zarr/$year/$month/data/$var.zarr/\"\n",
    "\n",
    "@time ds = open_dataset(f)"
   ]
  },
  {
   "cell_type": "code",
   "execution_count": 51,
   "id": "738b373f-be12-46ff-94b1-9dc33c27e306",
   "metadata": {
    "execution": {
     "iopub.execute_input": "2023-09-30T18:32:13.799",
     "iopub.status.busy": "2023-09-30T18:32:13.799",
     "iopub.status.idle": "2023-09-30T18:32:55.395",
     "shell.execute_reply": "2023-09-30T18:32:55.395"
    }
   },
   "outputs": [
    {
     "name": "stdout",
     "output_type": "stream",
     "text": [
      " 41.556399 seconds (136.82 k allocations: 1.390 GiB, 1.77% gc time)\n"
     ]
    },
    {
     "data": {
      "text/plain": [
       "281×161×744 YAXArray{Float32,3}\u001b[90m with dimensions: \u001b[39m\n",
       "  \u001b[31mDim{\u001b[39m\u001b[33m:lon\u001b[39m\u001b[31m}\u001b[39m Sampled{Float32} \u001b[36m70.0f0:0.25f0:140.0f0\u001b[39m ForwardOrdered Regular Points,\n",
       "  \u001b[31mDim{\u001b[39m\u001b[33m:lat\u001b[39m\u001b[31m}\u001b[39m Sampled{Float32} \u001b[36m55.0f0:-0.25f0:15.0f0\u001b[39m ReverseOrdered Regular Points,\n",
       "  \u001b[31mTi\u001b[39m Sampled{DateTime} \u001b[36mDateTime[2023-08-01T00:00:00, …, 2023-08-31T23:00:00]\u001b[39m ForwardOrdered Irregular Points\n",
       "units: K\n",
       "name: air_temperature_at_2_metres\n",
       "Total size: 128.4 MB\n"
      ]
     },
     "execution_count": 51,
     "metadata": {},
     "output_type": "execute_result"
    }
   ],
   "source": [
    "@time savecube(ds[1][ilon, ilat, :], \"datacube-ERA5/air_temperature\")"
   ]
  },
  {
   "cell_type": "code",
   "execution_count": 55,
   "id": "e97cae35-09f3-4f79-8804-3c1ac199190b",
   "metadata": {
    "execution": {
     "iopub.execute_input": "2023-09-30T18:33:43.581",
     "iopub.status.busy": "2023-09-30T18:33:43.581",
     "iopub.status.idle": "2023-09-30T18:33:44.059",
     "shell.execute_reply": "2023-09-30T18:33:44.059"
    }
   },
   "outputs": [
    {
     "data": {
      "text/plain": [
       "(150, 150, 372)"
      ]
     },
     "execution_count": 55,
     "metadata": {},
     "output_type": "execute_result"
    }
   ],
   "source": [
    "# ds.GridChunks\n",
    "chunksize(ds[1]) # 如果调整chunksize，速度应该会更快"
   ]
  }
 ],
 "metadata": {
  "kernelspec": {
   "display_name": "Julia 1.9.3",
   "language": "julia",
   "name": "julia-1.9"
  },
  "language_info": {
   "file_extension": ".jl",
   "mimetype": "application/julia",
   "name": "julia",
   "version": "1.9.3"
  }
 },
 "nbformat": 4,
 "nbformat_minor": 5
}
