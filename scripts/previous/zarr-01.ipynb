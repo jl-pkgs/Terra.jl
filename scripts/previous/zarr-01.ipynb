{
 "cells": [
  {
   "cell_type": "code",
   "execution_count": 12,
   "id": "6c381691-1ca2-4536-9c20-5431efc4a3bc",
   "metadata": {},
   "outputs": [],
   "source": [
    "using Zarr\n",
    "import Zarr: NoCompressor, BloscCompressor, ZlibCompressor, MaxLengthString\n",
    "\n",
    "using Stars\n",
    "using Ipaper"
   ]
  },
  {
   "cell_type": "code",
   "execution_count": 9,
   "id": "2dc222a7-3e1e-4b5a-b55b-6521f32193e6",
   "metadata": {},
   "outputs": [
    {
     "name": "stdout",
     "output_type": "stream",
     "text": [
      "Array{Int32, 3} | (5000, 5000, 20) | \u001b[34m\u001b[1m\u001b[4m1907.35 Mb\u001b[24m\u001b[22m\u001b[39m\n"
     ]
    }
   ],
   "source": [
    "n = Int(5e3)\n",
    "ntime = 20\n",
    "A = rand(Int32, n, n, 20)"
   ]
  },
  {
   "cell_type": "code",
   "execution_count": 78,
   "id": "41bd1cd5-c3c7-4103-9f3e-8480971cb131",
   "metadata": {},
   "outputs": [
    {
     "name": "stdout",
     "output_type": "stream",
     "text": [
      "Array{Int32, 3} | (5000, 5000, 20) | \u001b[34m\u001b[1m\u001b[4m1907.35 Mb\u001b[24m\u001b[22m\u001b[39m\n"
     ]
    }
   ],
   "source": [
    "obj_size(A)"
   ]
  },
  {
   "cell_type": "markdown",
   "id": "8faf0cfd-7ac6-4ed7-834b-76645e45cb3b",
   "metadata": {},
   "source": [
    "# 1. tiff"
   ]
  },
  {
   "cell_type": "code",
   "execution_count": null,
   "id": "a32f216e-43c3-48d3-acdf-ff352ee91d62",
   "metadata": {},
   "outputs": [],
   "source": [
    "# 第一次读写\n",
    "fout = \"f_star.tif\"\n",
    "ra = Raster(A)\n",
    "@time st_write(ra, fout)"
   ]
  },
  {
   "cell_type": "code",
   "execution_count": 79,
   "id": "8384d47b-dbd7-41fe-ba96-a1dab0d1c575",
   "metadata": {},
   "outputs": [
    {
     "name": "stdout",
     "output_type": "stream",
     "text": [
      " 38.123412 seconds (199 allocations: 3.725 GiB, 0.43% gc time)\n"
     ]
    },
    {
     "data": {
      "text/plain": [
       "\"f_star.tif\""
      ]
     },
     "execution_count": 79,
     "metadata": {},
     "output_type": "execute_result"
    }
   ],
   "source": [
    "# 第二次读写\n",
    "# 可能是tiled的原因导致文件偏大\n",
    "ra = Raster(A)\n",
    "@time st_write(ra, fout)"
   ]
  },
  {
   "cell_type": "code",
   "execution_count": 80,
   "id": "a25c65e6-5dd9-41fc-b45d-e663927e32a8",
   "metadata": {},
   "outputs": [
    {
     "name": "stdout",
     "output_type": "stream",
     "text": [
      "Driver: GTiff/GeoTIFF\n",
      "Files: f_star.tif\n",
      "Size is 5000, 5000\n",
      "Origin = (0.000000000000000,0.000000000000000)\n",
      "Pixel Size = (1.000000000000000,1.000000000000000)\n",
      "Image Structure Metadata:\n",
      "  COMPRESSION=DEFLATE\n",
      "  INTERLEAVE=PIXEL\n",
      "Corner Coordinates:\n",
      "Upper Left  (   0.0000000,   0.0000000) \n",
      "Lower Left  (       0.000,    5000.000) \n",
      "Upper Right (    5000.000,       0.000) \n",
      "Lower Right (    5000.000,    5000.000) \n",
      "Center      (    2500.000,    2500.000) \n",
      "Band 1 Block=256x256 Type=Int32, ColorInterp=Gray\n",
      "Band 2 Block=256x256 Type=Int32, ColorInterp=Undefined\n",
      "Band 3 Block=256x256 Type=Int32, ColorInterp=Undefined\n",
      "Band 4 Block=256x256 Type=Int32, ColorInterp=Undefined\n",
      "Band 5 Block=256x256 Type=Int32, ColorInterp=Undefined\n",
      "Band 6 Block=256x256 Type=Int32, ColorInterp=Undefined\n",
      "Band 7 Block=256x256 Type=Int32, ColorInterp=Undefined\n",
      "Band 8 Block=256x256 Type=Int32, ColorInterp=Undefined\n",
      "Band 9 Block=256x256 Type=Int32, ColorInterp=Undefined\n",
      "Band 10 Block=256x256 Type=Int32, ColorInterp=Undefined\n",
      "Band 11 Block=256x256 Type=Int32, ColorInterp=Undefined\n",
      "Band 12 Block=256x256 Type=Int32, ColorInterp=Undefined\n",
      "Band 13 Block=256x256 Type=Int32, ColorInterp=Undefined\n",
      "Band 14 Block=256x256 Type=Int32, ColorInterp=Undefined\n",
      "Band 15 Block=256x256 Type=Int32, ColorInterp=Undefined\n",
      "Band 16 Block=256x256 Type=Int32, ColorInterp=Undefined\n",
      "Band 17 Block=256x256 Type=Int32, ColorInterp=Undefined\n",
      "Band 18 Block=256x256 Type=Int32, ColorInterp=Undefined\n",
      "Band 19 Block=256x256 Type=Int32, ColorInterp=Undefined\n",
      "Band 20 Block=256x256 Type=Int32, ColorInterp=Undefined\n"
     ]
    }
   ],
   "source": [
    "fout = \"f_star.tif\"\n",
    "gdal_info(fout)"
   ]
  },
  {
   "cell_type": "code",
   "execution_count": 85,
   "id": "1e03a72d-d009-416a-93dc-b86f3aead2f0",
   "metadata": {},
   "outputs": [
    {
     "data": {
      "text/plain": [
       "5000×5000×20 Raster{Int32,3}\u001b[90m with dimensions: \u001b[39m\n",
       "  \u001b[31mX\u001b[39m Sampled{Float64} \u001b[36m70.007:0.014:139.993\u001b[39m ForwardOrdered Regular Points,\n",
       "  \u001b[31mY\u001b[39m Sampled{Float64} \u001b[36m54.996:-0.008:15.004\u001b[39m ReverseOrdered Regular Points,\n",
       "  \u001b[31mTi\u001b[39m Sampled{Int64} \u001b[36m1:20\u001b[39m ForwardOrdered Regular Points\n",
       "\u001b[90mextent: \u001b[39mExtent(X = (70.007, 139.993), Y = (15.004, 54.996), Ti = (1, 20))\u001b[90mparent:\u001b[39m\n",
       "[:, :, 1]\n",
       "                   \u001b[90m54.996\u001b[39m  …           \u001b[90m15.012\u001b[39m           \u001b[90m15.004\u001b[39m\n",
       "  \u001b[39m\u001b[90m70.007\u001b[39m   \u001b[39m\u001b[39m1467646213          \u001b[39m-651358032      \u001b[39m-1268503273\n",
       "  \u001b[39m\u001b[90m70.021\u001b[39m   \u001b[39m\u001b[39m1766827902         \u001b[39m-1111082297        \u001b[39m506205614\n",
       "  \u001b[39m\u001b[90m70.035\u001b[39m  \u001b[39m\u001b[39m-1683672301         \u001b[39m-1975199098      \u001b[39m-1513001614\n",
       "  \u001b[39m\u001b[90m70.049\u001b[39m   \u001b[39m\u001b[39m2130086526           \u001b[39m388366914       \u001b[39m-295741113\n",
       "  \u001b[39m\u001b[90m70.063\u001b[39m    \u001b[39m\u001b[39m967114387      …   \u001b[39m-402836693       \u001b[39m1625088659\n",
       "  \u001b[39m\u001b[90m70.077\u001b[39m   \u001b[39m\u001b[39m-891420784         \u001b[39m-1902265717      \u001b[39m-1104058886\n",
       "  \u001b[39m\u001b[90m70.091\u001b[39m    \u001b[39m\u001b[39m309119059          \u001b[39m2146959031       \u001b[39m-990137432\n",
       "   ⋮                       ⋱            ⋮      \n",
       " \u001b[39m\u001b[90m139.895\u001b[39m  \u001b[39m-1355595409          \u001b[39m1784873726       \u001b[39m-995661444\n",
       " \u001b[39m\u001b[90m139.909\u001b[39m   \u001b[39m1860435156      …    \u001b[39m896685357      \u001b[39m-2083997387\n",
       " \u001b[39m\u001b[90m139.923\u001b[39m  \u001b[39m-2142013305          \u001b[39m-210360880       \u001b[39m1019671613\n",
       " \u001b[39m\u001b[90m139.937\u001b[39m   \u001b[39m2129435589         \u001b[39m-1255319597       \u001b[39m1493080964\n",
       " \u001b[39m\u001b[90m139.951\u001b[39m   \u001b[39m-762678663           \u001b[39m243984652       \u001b[39m1688340328\n",
       " \u001b[39m\u001b[90m139.965\u001b[39m   \u001b[39m2112416687           \u001b[39m380292013      \u001b[39m-1411937946\n",
       " \u001b[39m\u001b[90m139.979\u001b[39m    \u001b[39m-62161386      …    \u001b[39m864240728      \u001b[39m-1653373189\n",
       " \u001b[39m\u001b[90m139.993\u001b[39m     \u001b[39m57646208          \u001b[39m1836421386      \u001b[39m-1866574281\n",
       "\u001b[90m[and 19 more slices...]\u001b[39m"
      ]
     },
     "execution_count": 85,
     "metadata": {},
     "output_type": "execute_result"
    },
    {
     "name": "stdout",
     "output_type": "stream",
     "text": [
      "\n"
     ]
    }
   ],
   "source": [
    "## 采用Terra进行读写\n",
    "import Terra\n",
    "\n",
    "b = Terra.bbox(70, 15, 140, 55)\n",
    "r2 = Terra.Raster(A, b);"
   ]
  },
  {
   "cell_type": "code",
   "execution_count": 88,
   "id": "506b0963-7555-49d6-9479-6547eafe1c2a",
   "metadata": {},
   "outputs": [],
   "source": [
    "# @time Terra.st_write(r2, \"f_terra.tif\");"
   ]
  },
  {
   "cell_type": "markdown",
   "id": "596a10c3-6544-43b1-af22-b21a63d7051b",
   "metadata": {},
   "source": [
    "# 2. Zarr"
   ]
  },
  {
   "cell_type": "code",
   "execution_count": 105,
   "id": "73e21c21-a3fa-4d15-b066-7ed951d5795d",
   "metadata": {},
   "outputs": [
    {
     "data": {
      "text/plain": [
       "ZarrGroup at DirectoryStore(\"f_zarr-01.zarr/LAI\") and path \n",
       "Variables: aInt32 "
      ]
     },
     "execution_count": 105,
     "metadata": {},
     "output_type": "execute_result"
    }
   ],
   "source": [
    "## 编写一个保存数据的函数\n",
    "using Zarr: AbstractStore, store_read_strategy, SequentialRead, ConcurrentRead\n",
    "Zarr.concurrent_io_tasks[]\n",
    "\n",
    "# add the `overwrite` option to zarr\n",
    "## DirectoryStore\n",
    "function zarr_group(s::String; overwrite=false, mode=\"w\", kw...)\n",
    "    if overwrite && isdir(s)\n",
    "        rm(s, recursive=true, force=true)\n",
    "    end\n",
    "    isdir(s) ? zopen(s, mode) : zgroup(s; kw...)\n",
    "end\n",
    "\n",
    "\n",
    "p = \"f_zarr-01.zarr\"\n",
    "g = zarr_group(p * \"/LAI\")"
   ]
  },
  {
   "cell_type": "markdown",
   "id": "0deb8fcf-8486-4f4d-9267-f015064aad41",
   "metadata": {},
   "source": [
    "## 2.1 非并行版本"
   ]
  },
  {
   "cell_type": "code",
   "execution_count": 106,
   "id": "712e221c-f75e-4285-ada2-7d1a7b63ffc8",
   "metadata": {},
   "outputs": [],
   "source": [
    "## 测试`DirectoryStore`的两种读写方案\n",
    "Zarr.store_read_strategy(::DirectoryStore) = SequentialRead()\n",
    "# Zarr.store_read_strategy(::DirectoryStore) = ConcurrentRead(Zarr.concurrent_io_tasks[])\n",
    "\n",
    "# store_read_strategy(g.storage)"
   ]
  },
  {
   "cell_type": "code",
   "execution_count": 75,
   "id": "b86b31e6-bc4a-4be8-b585-48c240282ed7",
   "metadata": {},
   "outputs": [
    {
     "data": {
      "text/plain": [
       "ZArray{Int32} of size 5000 x 5000 x 20"
      ]
     },
     "execution_count": 75,
     "metadata": {},
     "output_type": "execute_result"
    }
   ],
   "source": [
    "# A\n",
    "t = nonmissingtype(eltype(A))\n",
    "dims = size(A)\n",
    "compressor = NoCompressor()\n",
    "# how to automatically get the chunk size? \n",
    "chunks = (1000, 1000, 10)\n",
    "\n",
    "z = zcreate(t, g, string(\"a\", t), dims...;chunks, compressor)"
   ]
  },
  {
   "cell_type": "code",
   "execution_count": 89,
   "id": "7f306eb6-e336-46a8-b4e1-8a7be0024089",
   "metadata": {},
   "outputs": [
    {
     "name": "stdout",
     "output_type": "stream",
     "text": [
      "  8.995942 seconds (10.47 k allocations: 7.451 GiB, 5.25% gc time)\n"
     ]
    }
   ],
   "source": [
    "@time z[:] .= A;"
   ]
  },
  {
   "cell_type": "markdown",
   "id": "a254b906-cbe3-4acd-bcc2-25b006c4a5a2",
   "metadata": {},
   "source": [
    "## 2.2 并行版本"
   ]
  },
  {
   "cell_type": "code",
   "execution_count": 107,
   "id": "196b05f3-4bfd-49e2-bfb6-21d3a8987d61",
   "metadata": {},
   "outputs": [
    {
     "data": {
      "text/plain": [
       "ZArray{Int32} of size 5000 x 5000 x 20"
      ]
     },
     "execution_count": 107,
     "metadata": {},
     "output_type": "execute_result"
    }
   ],
   "source": [
    "## 测试`DirectoryStore`的两种读写方案\n",
    "# Zarr.store_read_strategy(::DirectoryStore) = SequentialRead()\n",
    "Zarr.store_read_strategy(::DirectoryStore) = ConcurrentRead(Zarr.concurrent_io_tasks[])\n",
    "Zarr.concurrent_io_tasks[] = 12;\n",
    "\n",
    "t = nonmissingtype(eltype(A))\n",
    "dims = size(A)\n",
    "compressor = NoCompressor()\n",
    "chunks = (1000, 1000, 10)\n",
    "\n",
    "varname = string(\"a\", t, \"_par\")\n",
    "z = zcreate(t, g, varname, dims...;chunks, compressor)\n",
    "# store_read_strategy(g.storage)"
   ]
  },
  {
   "cell_type": "code",
   "execution_count": 110,
   "id": "67c98003-8930-4816-8227-594a149e777e",
   "metadata": {},
   "outputs": [
    {
     "data": {
      "text/plain": [
       "ZarrGroup at DirectoryStore(\"f_zarr-01.zarr/LAI\") and path \n",
       "Variables: aInt32 aInt32_par "
      ]
     },
     "execution_count": 110,
     "metadata": {},
     "output_type": "execute_result"
    }
   ],
   "source": [
    "g"
   ]
  },
  {
   "cell_type": "code",
   "execution_count": 109,
   "id": "d0466002-0b74-4026-833e-c22dfe9de707",
   "metadata": {},
   "outputs": [
    {
     "data": {
      "text/plain": [
       "ConcurrentRead(12)"
      ]
     },
     "execution_count": 109,
     "metadata": {},
     "output_type": "execute_result"
    }
   ],
   "source": [
    "store_read_strategy(g.storage)"
   ]
  },
  {
   "cell_type": "code",
   "execution_count": 113,
   "id": "53c9e8d5-090f-4a88-a9ea-35c00e72f890",
   "metadata": {},
   "outputs": [
    {
     "name": "stdout",
     "output_type": "stream",
     "text": [
      "  8.281621 seconds (20.70 k allocations: 7.452 GiB, 5.29% gc time)\n"
     ]
    }
   ],
   "source": [
    "@time z[:] .= A;\n",
    "# 速度没有明显的提高，但读写速度还挺快"
   ]
  },
  {
   "cell_type": "markdown",
   "id": "014dca0d-e5ec-4ae5-84f1-4b27d0902f57",
   "metadata": {},
   "source": [
    "## 2.3 压缩\n"
   ]
  },
  {
   "cell_type": "code",
   "execution_count": 130,
   "id": "12503437-423b-48b9-97d0-f0144cf31bac",
   "metadata": {},
   "outputs": [
    {
     "data": {
      "text/plain": [
       "ZarrGroup at DirectoryStore(\"f_zarr-01.zarr/LAI\") and path \n",
       "Variables: aInt32 aInt32_compress aInt32_par "
      ]
     },
     "execution_count": 130,
     "metadata": {},
     "output_type": "execute_result"
    }
   ],
   "source": [
    "g"
   ]
  },
  {
   "cell_type": "code",
   "execution_count": 129,
   "id": "c96d6457-53e3-4ad4-8597-bbe2293f1bae",
   "metadata": {},
   "outputs": [],
   "source": [
    "# methods(zcreate)\n",
    "# z = g[\"aInt32_compress\"]\n",
    "# path for a variable\n",
    "path = z.storage.folder * \"/\" * z.path\n",
    "\n",
    "rm(path, recursive=true)"
   ]
  },
  {
   "cell_type": "code",
   "execution_count": 131,
   "id": "2db70be6-6ffc-45dc-b89c-a26a56768e47",
   "metadata": {},
   "outputs": [
    {
     "data": {
      "text/plain": [
       "ZArray{Int32} of size 5000 x 5000 x 20"
      ]
     },
     "execution_count": 131,
     "metadata": {},
     "output_type": "execute_result"
    }
   ],
   "source": [
    "varname = string(\"a\", t, \"_compress\")\n",
    "compressor = BloscCompressor(cname=\"zstd\",shuffle=0)\n",
    "\n",
    "# I want to overwrite this variable\n",
    "z = zcreate(t, g, varname, dims...;chunks, compressor)"
   ]
  },
  {
   "cell_type": "code",
   "execution_count": 132,
   "id": "5d28c2f2-952d-4518-8d4b-ba3b4e6e4ca7",
   "metadata": {},
   "outputs": [
    {
     "name": "stdout",
     "output_type": "stream",
     "text": [
      " 10.907466 seconds (20.25 k allocations: 7.452 GiB, 3.16% gc time)\n"
     ]
    }
   ],
   "source": [
    "# 这种随机的数据，压缩也没用\n",
    "@time z[:] .= A;"
   ]
  },
  {
   "cell_type": "markdown",
   "id": "1aa05e90-92fe-43f9-ad76-45407f5ebe6c",
   "metadata": {},
   "source": [
    "## 2.4 设计MODIS全球计算框架\n",
    "\n",
    "并行处理需要在实战中设计与改进。"
   ]
  },
  {
   "cell_type": "code",
   "execution_count": 134,
   "id": "39dd905b-c536-44bc-9f06-2a1aa2a86656",
   "metadata": {},
   "outputs": [
    {
     "data": {
      "text/plain": [
       "\"data_record\""
      ]
     },
     "execution_count": 134,
     "metadata": {},
     "output_type": "execute_result"
    }
   ],
   "source": [
    "## 全球有112个tiff，需要记录那个文件是处理过的。\n",
    "var_data = \"data\"\n",
    "var_record = var_data * \"_record\""
   ]
  },
  {
   "cell_type": "code",
   "execution_count": 148,
   "id": "f6edfcca-43e3-46cc-b5b8-0d8391b28beb",
   "metadata": {},
   "outputs": [
    {
     "data": {
      "text/plain": [
       "ZArray{Int32} of size 5000 x 5000 x 20"
      ]
     },
     "execution_count": 148,
     "metadata": {},
     "output_type": "execute_result"
    }
   ],
   "source": [
    "# z.attrs = Dict(\"Info\" => info)\n",
    "z = zcreate(t, g, var_data, dims...;chunks, attrs=Dict(\"Info\" => info), compressor)\n"
   ]
  },
  {
   "cell_type": "code",
   "execution_count": 157,
   "id": "9d97c452-7bba-42d2-8eda-5f1f17460d8e",
   "metadata": {},
   "outputs": [
    {
     "data": {
      "text/plain": [
       "999"
      ]
     },
     "execution_count": 157,
     "metadata": {},
     "output_type": "execute_result"
    }
   ],
   "source": [
    "z.attrs[\"Info\"][\"1\"] = 999"
   ]
  },
  {
   "cell_type": "code",
   "execution_count": 158,
   "id": "2df04872-ee06-43a9-aa2d-0a44034f459d",
   "metadata": {},
   "outputs": [
    {
     "data": {
      "text/plain": [
       "ZArray{Int32} of size 5000 x 5000 x 20"
      ]
     },
     "execution_count": 158,
     "metadata": {},
     "output_type": "execute_result"
    }
   ],
   "source": [
    "z\n",
    "## 采用dict的方式记录信息"
   ]
  },
  {
   "cell_type": "code",
   "execution_count": 155,
   "id": "a4ffb425-d415-4691-ab90-f98c6ff6b2fa",
   "metadata": {},
   "outputs": [
    {
     "data": {
      "text/plain": [
       "OrderedDict{String, Int64} with 12 entries:\n",
       "  \"1\"  => 1\n",
       "  \"2\"  => 2\n",
       "  \"3\"  => 3\n",
       "  \"4\"  => 4\n",
       "  \"5\"  => 5\n",
       "  \"6\"  => 6\n",
       "  \"7\"  => 7\n",
       "  \"8\"  => 8\n",
       "  \"9\"  => 9\n",
       "  \"10\" => 10\n",
       "  \"11\" => 11\n",
       "  \"12\" => 12"
      ]
     },
     "execution_count": 155,
     "metadata": {},
     "output_type": "execute_result"
    }
   ],
   "source": [
    "import DataStructures: OrderedDict\n",
    "\n",
    "# z = zcreate(t, g, varname, dims...;chunks, compressor)\n",
    "# 需要一个dict记录哪些文件是保存成功的，哪些没有\n",
    "x = collect(1:12)\n",
    "fs = string.(x)\n",
    "info = OrderedDict(zip(fs, x))"
   ]
  }
 ],
 "metadata": {
  "kernelspec": {
   "display_name": "Julia 1.9.3",
   "language": "julia",
   "name": "julia-1.9"
  },
  "language_info": {
   "file_extension": ".jl",
   "mimetype": "application/julia",
   "name": "julia",
   "version": "1.9.3"
  }
 },
 "nbformat": 4,
 "nbformat_minor": 5
}
